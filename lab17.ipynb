{
 "metadata": {
  "language_info": {
   "codemirror_mode": {
    "name": "ipython",
    "version": 3
   },
   "file_extension": ".py",
   "mimetype": "text/x-python",
   "name": "python",
   "nbconvert_exporter": "python",
   "pygments_lexer": "ipython3",
   "version": "3.8.3-final"
  },
  "orig_nbformat": 2,
  "kernelspec": {
   "name": "python383jvsc74a57bd05f23c331dcc0e959a18d97d72b32723b8e8fefc4a029dc171226f15b89161c30",
   "display_name": "Python 3.8.3 32-bit (conda)"
  }
 },
 "nbformat": 4,
 "nbformat_minor": 2,
 "cells": [
  {
   "source": [
    "# Lab 17 Carlos Azagra"
   ],
   "cell_type": "markdown",
   "metadata": {}
  },
  {
   "cell_type": "code",
   "execution_count": 1,
   "metadata": {},
   "outputs": [],
   "source": [
    "import pandas as pd\n",
    "import json\n",
    "import requests\n",
    "import datetime as dt\n",
    "from datetime import date"
   ]
  },
  {
   "cell_type": "code",
   "execution_count": 82,
   "metadata": {},
   "outputs": [],
   "source": [
    "# After getting access to Github API, I open the json file generated\n",
    "github = open('output.json')"
   ]
  },
  {
   "cell_type": "code",
   "execution_count": 83,
   "metadata": {},
   "outputs": [],
   "source": [
    "# Load the file and encapsule info in a variable\n",
    "github1 = json.load(github)"
   ]
  },
  {
   "cell_type": "code",
   "execution_count": 84,
   "metadata": {},
   "outputs": [
    {
     "output_type": "execute_result",
     "data": {
      "text/plain": [
       "dict_keys(['login', 'id', 'node_id', 'avatar_url', 'gravatar_id', 'url', 'html_url', 'followers_url', 'following_url', 'gists_url', 'starred_url', 'subscriptions_url', 'organizations_url', 'repos_url', 'events_url', 'received_events_url', 'type', 'site_admin', 'name', 'company', 'blog', 'location', 'email', 'hireable', 'bio', 'twitter_username', 'public_repos', 'public_gists', 'followers', 'following', 'created_at', 'updated_at', 'private_gists', 'total_private_repos', 'owned_private_repos', 'disk_usage', 'collaborators', 'two_factor_authentication', 'plan'])"
      ]
     },
     "metadata": {},
     "execution_count": 84
    }
   ],
   "source": [
    "# Analyse the keys of the dictionary\n",
    "github1.keys()"
   ]
  },
  {
   "source": [
    "## Challenge 1\n",
    "\n",
    "1. Obtain the full list of forks created from the main lab repo via Github API.\n",
    "\n",
    "2. Loop the JSON response to find out the language attribute of each fork. Use an array to store the language attributes of each fork (Hint: Each language should appear only once in your array).\n",
    "\n",
    "3. Print the language array.\n"
   ],
   "cell_type": "markdown",
   "metadata": {}
  },
  {
   "cell_type": "code",
   "execution_count": 89,
   "metadata": {},
   "outputs": [
    {
     "output_type": "execute_result",
     "data": {
      "text/plain": [
       "'https://api.github.com/users/carazaagu/repos'"
      ]
     },
     "metadata": {},
     "execution_count": 89
    }
   ],
   "source": [
    "# Check information of the key 'repos_url' - It is a link\n",
    "github1['repos_url']"
   ]
  },
  {
   "cell_type": "code",
   "execution_count": 90,
   "metadata": {},
   "outputs": [],
   "source": [
    "# Make a request to check the information in this link\n",
    "repo = requests.get(github1['repos_url']).json()"
   ]
  },
  {
   "cell_type": "code",
   "execution_count": 91,
   "metadata": {},
   "outputs": [
    {
     "output_type": "execute_result",
     "data": {
      "text/plain": [
       "{'id': 344546922,\n",
       " 'node_id': 'MDEwOlJlcG9zaXRvcnkzNDQ1NDY5MjI=',\n",
       " 'name': '08-lab-import-export',\n",
       " 'full_name': 'carazaagu/08-lab-import-export',\n",
       " 'private': False,\n",
       " 'owner': {'login': 'carazaagu',\n",
       "  'id': 73675116,\n",
       "  'node_id': 'MDQ6VXNlcjczNjc1MTE2',\n",
       "  'avatar_url': 'https://avatars.githubusercontent.com/u/73675116?v=4',\n",
       "  'gravatar_id': '',\n",
       "  'url': 'https://api.github.com/users/carazaagu',\n",
       "  'html_url': 'https://github.com/carazaagu',\n",
       "  'followers_url': 'https://api.github.com/users/carazaagu/followers',\n",
       "  'following_url': 'https://api.github.com/users/carazaagu/following{/other_user}',\n",
       "  'gists_url': 'https://api.github.com/users/carazaagu/gists{/gist_id}',\n",
       "  'starred_url': 'https://api.github.com/users/carazaagu/starred{/owner}{/repo}',\n",
       "  'subscriptions_url': 'https://api.github.com/users/carazaagu/subscriptions',\n",
       "  'organizations_url': 'https://api.github.com/users/carazaagu/orgs',\n",
       "  'repos_url': 'https://api.github.com/users/carazaagu/repos',\n",
       "  'events_url': 'https://api.github.com/users/carazaagu/events{/privacy}',\n",
       "  'received_events_url': 'https://api.github.com/users/carazaagu/received_events',\n",
       "  'type': 'User',\n",
       "  'site_admin': False},\n",
       " 'html_url': 'https://github.com/carazaagu/08-lab-import-export',\n",
       " 'description': None,\n",
       " 'fork': True,\n",
       " 'url': 'https://api.github.com/repos/carazaagu/08-lab-import-export',\n",
       " 'forks_url': 'https://api.github.com/repos/carazaagu/08-lab-import-export/forks',\n",
       " 'keys_url': 'https://api.github.com/repos/carazaagu/08-lab-import-export/keys{/key_id}',\n",
       " 'collaborators_url': 'https://api.github.com/repos/carazaagu/08-lab-import-export/collaborators{/collaborator}',\n",
       " 'teams_url': 'https://api.github.com/repos/carazaagu/08-lab-import-export/teams',\n",
       " 'hooks_url': 'https://api.github.com/repos/carazaagu/08-lab-import-export/hooks',\n",
       " 'issue_events_url': 'https://api.github.com/repos/carazaagu/08-lab-import-export/issues/events{/number}',\n",
       " 'events_url': 'https://api.github.com/repos/carazaagu/08-lab-import-export/events',\n",
       " 'assignees_url': 'https://api.github.com/repos/carazaagu/08-lab-import-export/assignees{/user}',\n",
       " 'branches_url': 'https://api.github.com/repos/carazaagu/08-lab-import-export/branches{/branch}',\n",
       " 'tags_url': 'https://api.github.com/repos/carazaagu/08-lab-import-export/tags',\n",
       " 'blobs_url': 'https://api.github.com/repos/carazaagu/08-lab-import-export/git/blobs{/sha}',\n",
       " 'git_tags_url': 'https://api.github.com/repos/carazaagu/08-lab-import-export/git/tags{/sha}',\n",
       " 'git_refs_url': 'https://api.github.com/repos/carazaagu/08-lab-import-export/git/refs{/sha}',\n",
       " 'trees_url': 'https://api.github.com/repos/carazaagu/08-lab-import-export/git/trees{/sha}',\n",
       " 'statuses_url': 'https://api.github.com/repos/carazaagu/08-lab-import-export/statuses/{sha}',\n",
       " 'languages_url': 'https://api.github.com/repos/carazaagu/08-lab-import-export/languages',\n",
       " 'stargazers_url': 'https://api.github.com/repos/carazaagu/08-lab-import-export/stargazers',\n",
       " 'contributors_url': 'https://api.github.com/repos/carazaagu/08-lab-import-export/contributors',\n",
       " 'subscribers_url': 'https://api.github.com/repos/carazaagu/08-lab-import-export/subscribers',\n",
       " 'subscription_url': 'https://api.github.com/repos/carazaagu/08-lab-import-export/subscription',\n",
       " 'commits_url': 'https://api.github.com/repos/carazaagu/08-lab-import-export/commits{/sha}',\n",
       " 'git_commits_url': 'https://api.github.com/repos/carazaagu/08-lab-import-export/git/commits{/sha}',\n",
       " 'comments_url': 'https://api.github.com/repos/carazaagu/08-lab-import-export/comments{/number}',\n",
       " 'issue_comment_url': 'https://api.github.com/repos/carazaagu/08-lab-import-export/issues/comments{/number}',\n",
       " 'contents_url': 'https://api.github.com/repos/carazaagu/08-lab-import-export/contents/{+path}',\n",
       " 'compare_url': 'https://api.github.com/repos/carazaagu/08-lab-import-export/compare/{base}...{head}',\n",
       " 'merges_url': 'https://api.github.com/repos/carazaagu/08-lab-import-export/merges',\n",
       " 'archive_url': 'https://api.github.com/repos/carazaagu/08-lab-import-export/{archive_format}{/ref}',\n",
       " 'downloads_url': 'https://api.github.com/repos/carazaagu/08-lab-import-export/downloads',\n",
       " 'issues_url': 'https://api.github.com/repos/carazaagu/08-lab-import-export/issues{/number}',\n",
       " 'pulls_url': 'https://api.github.com/repos/carazaagu/08-lab-import-export/pulls{/number}',\n",
       " 'milestones_url': 'https://api.github.com/repos/carazaagu/08-lab-import-export/milestones{/number}',\n",
       " 'notifications_url': 'https://api.github.com/repos/carazaagu/08-lab-import-export/notifications{?since,all,participating}',\n",
       " 'labels_url': 'https://api.github.com/repos/carazaagu/08-lab-import-export/labels{/name}',\n",
       " 'releases_url': 'https://api.github.com/repos/carazaagu/08-lab-import-export/releases{/id}',\n",
       " 'deployments_url': 'https://api.github.com/repos/carazaagu/08-lab-import-export/deployments',\n",
       " 'created_at': '2021-03-04T16:58:32Z',\n",
       " 'updated_at': '2021-03-04T20:08:46Z',\n",
       " 'pushed_at': '2021-03-04T20:08:43Z',\n",
       " 'git_url': 'git://github.com/carazaagu/08-lab-import-export.git',\n",
       " 'ssh_url': 'git@github.com:carazaagu/08-lab-import-export.git',\n",
       " 'clone_url': 'https://github.com/carazaagu/08-lab-import-export.git',\n",
       " 'svn_url': 'https://github.com/carazaagu/08-lab-import-export',\n",
       " 'homepage': None,\n",
       " 'size': 257,\n",
       " 'stargazers_count': 0,\n",
       " 'watchers_count': 0,\n",
       " 'language': 'Jupyter Notebook',\n",
       " 'has_issues': False,\n",
       " 'has_projects': True,\n",
       " 'has_downloads': True,\n",
       " 'has_wiki': True,\n",
       " 'has_pages': False,\n",
       " 'forks_count': 0,\n",
       " 'mirror_url': None,\n",
       " 'archived': False,\n",
       " 'disabled': False,\n",
       " 'open_issues_count': 0,\n",
       " 'license': None,\n",
       " 'forks': 0,\n",
       " 'open_issues': 0,\n",
       " 'watchers': 0,\n",
       " 'default_branch': 'master'}"
      ]
     },
     "metadata": {},
     "execution_count": 91
    }
   ],
   "source": [
    "# As a list is received, check the first item to see what information has each element - dictionary\n",
    "repo[0]"
   ]
  },
  {
   "cell_type": "code",
   "execution_count": 92,
   "metadata": {},
   "outputs": [
    {
     "output_type": "execute_result",
     "data": {
      "text/plain": [
       "True"
      ]
     },
     "metadata": {},
     "execution_count": 92
    }
   ],
   "source": [
    "# Check how many of the repos are forked - all are forked\n",
    "n_fork = 0\n",
    "for i in repo:\n",
    "    if i['fork'] == True:\n",
    "        n_fork += 1\n",
    "n_fork == len(repo)"
   ]
  },
  {
   "cell_type": "code",
   "execution_count": 93,
   "metadata": {},
   "outputs": [
    {
     "output_type": "execute_result",
     "data": {
      "text/plain": [
       "22"
      ]
     },
     "metadata": {},
     "execution_count": 93
    }
   ],
   "source": [
    "n_fork"
   ]
  },
  {
   "cell_type": "code",
   "execution_count": 94,
   "metadata": {},
   "outputs": [
    {
     "output_type": "execute_result",
     "data": {
      "text/plain": [
       "dict_keys(['id', 'node_id', 'name', 'full_name', 'private', 'owner', 'html_url', 'description', 'fork', 'url', 'forks_url', 'keys_url', 'collaborators_url', 'teams_url', 'hooks_url', 'issue_events_url', 'events_url', 'assignees_url', 'branches_url', 'tags_url', 'blobs_url', 'git_tags_url', 'git_refs_url', 'trees_url', 'statuses_url', 'languages_url', 'stargazers_url', 'contributors_url', 'subscribers_url', 'subscription_url', 'commits_url', 'git_commits_url', 'comments_url', 'issue_comment_url', 'contents_url', 'compare_url', 'merges_url', 'archive_url', 'downloads_url', 'issues_url', 'pulls_url', 'milestones_url', 'notifications_url', 'labels_url', 'releases_url', 'deployments_url', 'created_at', 'updated_at', 'pushed_at', 'git_url', 'ssh_url', 'clone_url', 'svn_url', 'homepage', 'size', 'stargazers_count', 'watchers_count', 'language', 'has_issues', 'has_projects', 'has_downloads', 'has_wiki', 'has_pages', 'forks_count', 'mirror_url', 'archived', 'disabled', 'open_issues_count', 'license', 'forks', 'open_issues', 'watchers', 'default_branch'])"
      ]
     },
     "metadata": {},
     "execution_count": 94
    }
   ],
   "source": [
    "# Analyse keys of the first elemen to see what information does it have\n",
    "repo[0].keys()"
   ]
  },
  {
   "cell_type": "code",
   "execution_count": 95,
   "metadata": {},
   "outputs": [
    {
     "output_type": "execute_result",
     "data": {
      "text/plain": [
       "'https://api.github.com/repos/carazaagu/08-lab-import-export/languages'"
      ]
     },
     "metadata": {},
     "execution_count": 95
    }
   ],
   "source": [
    "# Want to knwo the language - output is an url\n",
    "repo[0]['languages_url']"
   ]
  },
  {
   "cell_type": "code",
   "execution_count": 96,
   "metadata": {},
   "outputs": [],
   "source": [
    "# Obtain the information from the url by using get\n",
    "repo2 = requests.get(repo[0]['languages_url']).json()"
   ]
  },
  {
   "cell_type": "code",
   "execution_count": 97,
   "metadata": {},
   "outputs": [
    {
     "output_type": "execute_result",
     "data": {
      "text/plain": [
       "{'Jupyter Notebook': 86126}"
      ]
     },
     "metadata": {},
     "execution_count": 97
    }
   ],
   "source": [
    "# Obtain a dictionary that has the language as key\n",
    "repo2"
   ]
  },
  {
   "cell_type": "code",
   "execution_count": 98,
   "metadata": {
    "tags": []
   },
   "outputs": [],
   "source": [
    "# Create an empty list\n",
    "# Make a for loop to obtain the keys (which are the languages) of all the repos\n",
    "# Append keys of each repo in the empty list, if it does not exist\n",
    "program_lang = []\n",
    "for i in range(len(repo)):\n",
    "    repo3 = requests.get(repo[i]['languages_url']).json().keys()\n",
    "    for j in repo3:\n",
    "        if j not in program_lang:\n",
    "            program_lang.append(j)"
   ]
  },
  {
   "cell_type": "code",
   "execution_count": 99,
   "metadata": {},
   "outputs": [
    {
     "output_type": "execute_result",
     "data": {
      "text/plain": [
       "['Jupyter Notebook', 'HTML', 'Python']"
      ]
     },
     "metadata": {},
     "execution_count": 99
    }
   ],
   "source": [
    "# Check appended list to see languages\n",
    "program_lang"
   ]
  },
  {
   "source": [
    "## Challenge 2\n",
    "\n",
    "Count how many commits were made in the past week.\n",
    "\n",
    "1. Obtain all the commits made in the past week via API, which is a JSON array that contains multiple commit objects.\n",
    "\n",
    "2. Count how many commit objects are contained in the array."
   ],
   "cell_type": "markdown",
   "metadata": {}
  },
  {
   "cell_type": "code",
   "execution_count": 100,
   "metadata": {},
   "outputs": [
    {
     "output_type": "execute_result",
     "data": {
      "text/plain": [
       "dict_keys(['id', 'node_id', 'name', 'full_name', 'private', 'owner', 'html_url', 'description', 'fork', 'url', 'forks_url', 'keys_url', 'collaborators_url', 'teams_url', 'hooks_url', 'issue_events_url', 'events_url', 'assignees_url', 'branches_url', 'tags_url', 'blobs_url', 'git_tags_url', 'git_refs_url', 'trees_url', 'statuses_url', 'languages_url', 'stargazers_url', 'contributors_url', 'subscribers_url', 'subscription_url', 'commits_url', 'git_commits_url', 'comments_url', 'issue_comment_url', 'contents_url', 'compare_url', 'merges_url', 'archive_url', 'downloads_url', 'issues_url', 'pulls_url', 'milestones_url', 'notifications_url', 'labels_url', 'releases_url', 'deployments_url', 'created_at', 'updated_at', 'pushed_at', 'git_url', 'ssh_url', 'clone_url', 'svn_url', 'homepage', 'size', 'stargazers_count', 'watchers_count', 'language', 'has_issues', 'has_projects', 'has_downloads', 'has_wiki', 'has_pages', 'forks_count', 'mirror_url', 'archived', 'disabled', 'open_issues_count', 'license', 'forks', 'open_issues', 'watchers', 'default_branch'])"
      ]
     },
     "metadata": {},
     "execution_count": 100
    }
   ],
   "source": [
    "# Check key to see which one can I use to obtain the commits\n",
    "repo[0].keys()"
   ]
  },
  {
   "cell_type": "code",
   "execution_count": 101,
   "metadata": {},
   "outputs": [
    {
     "output_type": "execute_result",
     "data": {
      "text/plain": [
       "'https://api.github.com/repos/carazaagu/08-lab-import-export'"
      ]
     },
     "metadata": {},
     "execution_count": 101
    }
   ],
   "source": [
    "# Check key url - obtain an url\n",
    "repo[0]['url']"
   ]
  },
  {
   "cell_type": "code",
   "execution_count": 102,
   "metadata": {},
   "outputs": [
    {
     "output_type": "execute_result",
     "data": {
      "text/plain": [
       "dict_keys(['id', 'node_id', 'name', 'full_name', 'private', 'owner', 'html_url', 'description', 'fork', 'url', 'forks_url', 'keys_url', 'collaborators_url', 'teams_url', 'hooks_url', 'issue_events_url', 'events_url', 'assignees_url', 'branches_url', 'tags_url', 'blobs_url', 'git_tags_url', 'git_refs_url', 'trees_url', 'statuses_url', 'languages_url', 'stargazers_url', 'contributors_url', 'subscribers_url', 'subscription_url', 'commits_url', 'git_commits_url', 'comments_url', 'issue_comment_url', 'contents_url', 'compare_url', 'merges_url', 'archive_url', 'downloads_url', 'issues_url', 'pulls_url', 'milestones_url', 'notifications_url', 'labels_url', 'releases_url', 'deployments_url', 'created_at', 'updated_at', 'pushed_at', 'git_url', 'ssh_url', 'clone_url', 'svn_url', 'homepage', 'size', 'stargazers_count', 'watchers_count', 'language', 'has_issues', 'has_projects', 'has_downloads', 'has_wiki', 'has_pages', 'forks_count', 'mirror_url', 'archived', 'disabled', 'open_issues_count', 'license', 'forks', 'open_issues', 'watchers', 'default_branch', 'temp_clone_token', 'parent', 'source', 'network_count', 'subscribers_count'])"
      ]
     },
     "metadata": {},
     "execution_count": 102
    }
   ],
   "source": [
    "# Request this url from the first element\n",
    "repo4 = requests.get(repo[0]['url']).json()\n",
    "repo4.keys()"
   ]
  },
  {
   "cell_type": "code",
   "execution_count": 103,
   "metadata": {},
   "outputs": [
    {
     "output_type": "execute_result",
     "data": {
      "text/plain": [
       "'https://api.github.com/repos/carazaagu/08-lab-import-export/commits{/sha}'"
      ]
     },
     "metadata": {},
     "execution_count": 103
    }
   ],
   "source": [
    "# Check url to see the endpoint\n",
    "repo4['commits_url']"
   ]
  },
  {
   "cell_type": "code",
   "execution_count": 104,
   "metadata": {},
   "outputs": [],
   "source": [
    "# There is an endpoint that I can use - commits\n",
    "endpoint = '/commits'"
   ]
  },
  {
   "cell_type": "code",
   "execution_count": 105,
   "metadata": {},
   "outputs": [
    {
     "output_type": "execute_result",
     "data": {
      "text/plain": [
       "[{'sha': '81177b3954a31bf6b56e1fc3d5fbd64ca5c16353',\n",
       "  'node_id': 'MDY6Q29tbWl0MzQ0NTQ2OTIyOjgxMTc3YjM5NTRhMzFiZjZiNTZlMWZjM2Q1ZmJkNjRjYTVjMTYzNTM=',\n",
       "  'commit': {'author': {'name': 'Carlos Azagra',\n",
       "    'email': 'carlos.azagra.aguye@gmail.com',\n",
       "    'date': '2021-03-04T20:08:30Z'},\n",
       "   'committer': {'name': 'Carlos Azagra',\n",
       "    'email': 'carlos.azagra.aguye@gmail.com',\n",
       "    'date': '2021-03-04T20:08:30Z'},\n",
       "   'message': 'lab8 completed',\n",
       "   'tree': {'sha': 'cc9d94b7c2d15bbc337de168c5552e204bb7f73e',\n",
       "    'url': 'https://api.github.com/repos/carazaagu/08-lab-import-export/git/trees/cc9d94b7c2d15bbc337de168c5552e204bb7f73e'},\n",
       "   'url': 'https://api.github.com/repos/carazaagu/08-lab-import-export/git/commits/81177b3954a31bf6b56e1fc3d5fbd64ca5c16353',\n",
       "   'comment_count': 0,\n",
       "   'verification': {'verified': False,\n",
       "    'reason': 'unsigned',\n",
       "    'signature': None,\n",
       "    'payload': None}},\n",
       "  'url': 'https://api.github.com/repos/carazaagu/08-lab-import-export/commits/81177b3954a31bf6b56e1fc3d5fbd64ca5c16353',\n",
       "  'html_url': 'https://github.com/carazaagu/08-lab-import-export/commit/81177b3954a31bf6b56e1fc3d5fbd64ca5c16353',\n",
       "  'comments_url': 'https://api.github.com/repos/carazaagu/08-lab-import-export/commits/81177b3954a31bf6b56e1fc3d5fbd64ca5c16353/comments',\n",
       "  'author': {'login': 'carazaagu',\n",
       "   'id': 73675116,\n",
       "   'node_id': 'MDQ6VXNlcjczNjc1MTE2',\n",
       "   'avatar_url': 'https://avatars.githubusercontent.com/u/73675116?v=4',\n",
       "   'gravatar_id': '',\n",
       "   'url': 'https://api.github.com/users/carazaagu',\n",
       "   'html_url': 'https://github.com/carazaagu',\n",
       "   'followers_url': 'https://api.github.com/users/carazaagu/followers',\n",
       "   'following_url': 'https://api.github.com/users/carazaagu/following{/other_user}',\n",
       "   'gists_url': 'https://api.github.com/users/carazaagu/gists{/gist_id}',\n",
       "   'starred_url': 'https://api.github.com/users/carazaagu/starred{/owner}{/repo}',\n",
       "   'subscriptions_url': 'https://api.github.com/users/carazaagu/subscriptions',\n",
       "   'organizations_url': 'https://api.github.com/users/carazaagu/orgs',\n",
       "   'repos_url': 'https://api.github.com/users/carazaagu/repos',\n",
       "   'events_url': 'https://api.github.com/users/carazaagu/events{/privacy}',\n",
       "   'received_events_url': 'https://api.github.com/users/carazaagu/received_events',\n",
       "   'type': 'User',\n",
       "   'site_admin': False},\n",
       "  'committer': {'login': 'carazaagu',\n",
       "   'id': 73675116,\n",
       "   'node_id': 'MDQ6VXNlcjczNjc1MTE2',\n",
       "   'avatar_url': 'https://avatars.githubusercontent.com/u/73675116?v=4',\n",
       "   'gravatar_id': '',\n",
       "   'url': 'https://api.github.com/users/carazaagu',\n",
       "   'html_url': 'https://github.com/carazaagu',\n",
       "   'followers_url': 'https://api.github.com/users/carazaagu/followers',\n",
       "   'following_url': 'https://api.github.com/users/carazaagu/following{/other_user}',\n",
       "   'gists_url': 'https://api.github.com/users/carazaagu/gists{/gist_id}',\n",
       "   'starred_url': 'https://api.github.com/users/carazaagu/starred{/owner}{/repo}',\n",
       "   'subscriptions_url': 'https://api.github.com/users/carazaagu/subscriptions',\n",
       "   'organizations_url': 'https://api.github.com/users/carazaagu/orgs',\n",
       "   'repos_url': 'https://api.github.com/users/carazaagu/repos',\n",
       "   'events_url': 'https://api.github.com/users/carazaagu/events{/privacy}',\n",
       "   'received_events_url': 'https://api.github.com/users/carazaagu/received_events',\n",
       "   'type': 'User',\n",
       "   'site_admin': False},\n",
       "  'parents': [{'sha': 'd02f3ae1becaf3d09d0068c372c0e605b313b42b',\n",
       "    'url': 'https://api.github.com/repos/carazaagu/08-lab-import-export/commits/d02f3ae1becaf3d09d0068c372c0e605b313b42b',\n",
       "    'html_url': 'https://github.com/carazaagu/08-lab-import-export/commit/d02f3ae1becaf3d09d0068c372c0e605b313b42b'}]},\n",
       " {'sha': 'd02f3ae1becaf3d09d0068c372c0e605b313b42b',\n",
       "  'node_id': 'MDY6Q29tbWl0MzQ0NTQ2OTIyOmQwMmYzYWUxYmVjYWYzZDA5ZDAwNjhjMzcyYzBlNjA1YjMxM2I0MmI=',\n",
       "  'commit': {'author': {'name': 'myrto',\n",
       "    'email': 'myrtosetzi@gmail.com',\n",
       "    'date': '2019-06-28T13:25:10Z'},\n",
       "   'committer': {'name': 'myrto',\n",
       "    'email': 'myrtosetzi@gmail.com',\n",
       "    'date': '2019-06-28T13:25:10Z'},\n",
       "   'message': 'added import-export lab',\n",
       "   'tree': {'sha': '7396074df87cb8b959bf75d172ea82200530c41c',\n",
       "    'url': 'https://api.github.com/repos/carazaagu/08-lab-import-export/git/trees/7396074df87cb8b959bf75d172ea82200530c41c'},\n",
       "   'url': 'https://api.github.com/repos/carazaagu/08-lab-import-export/git/commits/d02f3ae1becaf3d09d0068c372c0e605b313b42b',\n",
       "   'comment_count': 0,\n",
       "   'verification': {'verified': False,\n",
       "    'reason': 'unsigned',\n",
       "    'signature': None,\n",
       "    'payload': None}},\n",
       "  'url': 'https://api.github.com/repos/carazaagu/08-lab-import-export/commits/d02f3ae1becaf3d09d0068c372c0e605b313b42b',\n",
       "  'html_url': 'https://github.com/carazaagu/08-lab-import-export/commit/d02f3ae1becaf3d09d0068c372c0e605b313b42b',\n",
       "  'comments_url': 'https://api.github.com/repos/carazaagu/08-lab-import-export/commits/d02f3ae1becaf3d09d0068c372c0e605b313b42b/comments',\n",
       "  'author': {'login': 'myrtosetzi',\n",
       "   'id': 13872050,\n",
       "   'node_id': 'MDQ6VXNlcjEzODcyMDUw',\n",
       "   'avatar_url': 'https://avatars.githubusercontent.com/u/13872050?v=4',\n",
       "   'gravatar_id': '',\n",
       "   'url': 'https://api.github.com/users/myrtosetzi',\n",
       "   'html_url': 'https://github.com/myrtosetzi',\n",
       "   'followers_url': 'https://api.github.com/users/myrtosetzi/followers',\n",
       "   'following_url': 'https://api.github.com/users/myrtosetzi/following{/other_user}',\n",
       "   'gists_url': 'https://api.github.com/users/myrtosetzi/gists{/gist_id}',\n",
       "   'starred_url': 'https://api.github.com/users/myrtosetzi/starred{/owner}{/repo}',\n",
       "   'subscriptions_url': 'https://api.github.com/users/myrtosetzi/subscriptions',\n",
       "   'organizations_url': 'https://api.github.com/users/myrtosetzi/orgs',\n",
       "   'repos_url': 'https://api.github.com/users/myrtosetzi/repos',\n",
       "   'events_url': 'https://api.github.com/users/myrtosetzi/events{/privacy}',\n",
       "   'received_events_url': 'https://api.github.com/users/myrtosetzi/received_events',\n",
       "   'type': 'User',\n",
       "   'site_admin': False},\n",
       "  'committer': {'login': 'myrtosetzi',\n",
       "   'id': 13872050,\n",
       "   'node_id': 'MDQ6VXNlcjEzODcyMDUw',\n",
       "   'avatar_url': 'https://avatars.githubusercontent.com/u/13872050?v=4',\n",
       "   'gravatar_id': '',\n",
       "   'url': 'https://api.github.com/users/myrtosetzi',\n",
       "   'html_url': 'https://github.com/myrtosetzi',\n",
       "   'followers_url': 'https://api.github.com/users/myrtosetzi/followers',\n",
       "   'following_url': 'https://api.github.com/users/myrtosetzi/following{/other_user}',\n",
       "   'gists_url': 'https://api.github.com/users/myrtosetzi/gists{/gist_id}',\n",
       "   'starred_url': 'https://api.github.com/users/myrtosetzi/starred{/owner}{/repo}',\n",
       "   'subscriptions_url': 'https://api.github.com/users/myrtosetzi/subscriptions',\n",
       "   'organizations_url': 'https://api.github.com/users/myrtosetzi/orgs',\n",
       "   'repos_url': 'https://api.github.com/users/myrtosetzi/repos',\n",
       "   'events_url': 'https://api.github.com/users/myrtosetzi/events{/privacy}',\n",
       "   'received_events_url': 'https://api.github.com/users/myrtosetzi/received_events',\n",
       "   'type': 'User',\n",
       "   'site_admin': False},\n",
       "  'parents': [{'sha': '3423dd79442b88d35e571bbce422dc963acddc59',\n",
       "    'url': 'https://api.github.com/repos/carazaagu/08-lab-import-export/commits/3423dd79442b88d35e571bbce422dc963acddc59',\n",
       "    'html_url': 'https://github.com/carazaagu/08-lab-import-export/commit/3423dd79442b88d35e571bbce422dc963acddc59'}]},\n",
       " {'sha': '3423dd79442b88d35e571bbce422dc963acddc59',\n",
       "  'node_id': 'MDY6Q29tbWl0MzQ0NTQ2OTIyOjM0MjNkZDc5NDQyYjg4ZDM1ZTU3MWJiY2U0MjJkYzk2M2FjZGRjNTk=',\n",
       "  'commit': {'author': {'name': 'ta-datapt-bcn',\n",
       "    'email': '50545821+ta-datapt-bcn@users.noreply.github.com',\n",
       "    'date': '2019-06-28T13:23:13Z'},\n",
       "   'committer': {'name': 'GitHub',\n",
       "    'email': 'noreply@github.com',\n",
       "    'date': '2019-06-28T13:23:13Z'},\n",
       "   'message': 'Initial commit',\n",
       "   'tree': {'sha': '6c40cde9a250fdac9e6b47e76c70c1c05817a2c3',\n",
       "    'url': 'https://api.github.com/repos/carazaagu/08-lab-import-export/git/trees/6c40cde9a250fdac9e6b47e76c70c1c05817a2c3'},\n",
       "   'url': 'https://api.github.com/repos/carazaagu/08-lab-import-export/git/commits/3423dd79442b88d35e571bbce422dc963acddc59',\n",
       "   'comment_count': 0,\n",
       "   'verification': {'verified': True,\n",
       "    'reason': 'valid',\n",
       "    'signature': '-----BEGIN PGP SIGNATURE-----\\n\\nwsBcBAABCAAQBQJdFhTBCRBK7hj4Ov3rIwAAdHIIABM6DgJVJfZS9ef4Nyi5rXGc\\np6/Yih1eCrqV+fYBeb4a7QMYtYVtsZgSO/boV1re9uJlYsEEdNMk8FjCdgEi5G29\\nqayLJqp7BXEPvl8aB3Wh0PQlZIcRHDtXuHHH3uIrfKCzrcRvcJXffBLiTufa4Rtz\\nG1QYRXCoWb9ZRAOtPC4ZLcYKss+DPFBayahywAcwM0k4eJ1wHDiRZ5zpu+z7hP16\\n1nrvxjp89c+FlHsHZEqfSMcw1Kzwu4VNHsrsmZzZTlhIs3uyTdXt00nec4W7LOuD\\njA784AboybGk/zeHHeFvKPlaxHM8Jt5USpXHVE1qfmOsrWfHQgdOhjfK6/Z7SbA=\\n=xjVU\\n-----END PGP SIGNATURE-----\\n',\n",
       "    'payload': 'tree 6c40cde9a250fdac9e6b47e76c70c1c05817a2c3\\nauthor ta-datapt-bcn <50545821+ta-datapt-bcn@users.noreply.github.com> 1561728193 +0200\\ncommitter GitHub <noreply@github.com> 1561728193 +0200\\n\\nInitial commit'}},\n",
       "  'url': 'https://api.github.com/repos/carazaagu/08-lab-import-export/commits/3423dd79442b88d35e571bbce422dc963acddc59',\n",
       "  'html_url': 'https://github.com/carazaagu/08-lab-import-export/commit/3423dd79442b88d35e571bbce422dc963acddc59',\n",
       "  'comments_url': 'https://api.github.com/repos/carazaagu/08-lab-import-export/commits/3423dd79442b88d35e571bbce422dc963acddc59/comments',\n",
       "  'author': {'login': 'ta-datapt-bcn',\n",
       "   'id': 50545821,\n",
       "   'node_id': 'MDQ6VXNlcjUwNTQ1ODIx',\n",
       "   'avatar_url': 'https://avatars.githubusercontent.com/u/50545821?v=4',\n",
       "   'gravatar_id': '',\n",
       "   'url': 'https://api.github.com/users/ta-datapt-bcn',\n",
       "   'html_url': 'https://github.com/ta-datapt-bcn',\n",
       "   'followers_url': 'https://api.github.com/users/ta-datapt-bcn/followers',\n",
       "   'following_url': 'https://api.github.com/users/ta-datapt-bcn/following{/other_user}',\n",
       "   'gists_url': 'https://api.github.com/users/ta-datapt-bcn/gists{/gist_id}',\n",
       "   'starred_url': 'https://api.github.com/users/ta-datapt-bcn/starred{/owner}{/repo}',\n",
       "   'subscriptions_url': 'https://api.github.com/users/ta-datapt-bcn/subscriptions',\n",
       "   'organizations_url': 'https://api.github.com/users/ta-datapt-bcn/orgs',\n",
       "   'repos_url': 'https://api.github.com/users/ta-datapt-bcn/repos',\n",
       "   'events_url': 'https://api.github.com/users/ta-datapt-bcn/events{/privacy}',\n",
       "   'received_events_url': 'https://api.github.com/users/ta-datapt-bcn/received_events',\n",
       "   'type': 'User',\n",
       "   'site_admin': False},\n",
       "  'committer': {'login': 'web-flow',\n",
       "   'id': 19864447,\n",
       "   'node_id': 'MDQ6VXNlcjE5ODY0NDQ3',\n",
       "   'avatar_url': 'https://avatars.githubusercontent.com/u/19864447?v=4',\n",
       "   'gravatar_id': '',\n",
       "   'url': 'https://api.github.com/users/web-flow',\n",
       "   'html_url': 'https://github.com/web-flow',\n",
       "   'followers_url': 'https://api.github.com/users/web-flow/followers',\n",
       "   'following_url': 'https://api.github.com/users/web-flow/following{/other_user}',\n",
       "   'gists_url': 'https://api.github.com/users/web-flow/gists{/gist_id}',\n",
       "   'starred_url': 'https://api.github.com/users/web-flow/starred{/owner}{/repo}',\n",
       "   'subscriptions_url': 'https://api.github.com/users/web-flow/subscriptions',\n",
       "   'organizations_url': 'https://api.github.com/users/web-flow/orgs',\n",
       "   'repos_url': 'https://api.github.com/users/web-flow/repos',\n",
       "   'events_url': 'https://api.github.com/users/web-flow/events{/privacy}',\n",
       "   'received_events_url': 'https://api.github.com/users/web-flow/received_events',\n",
       "   'type': 'User',\n",
       "   'site_admin': False},\n",
       "  'parents': []}]"
      ]
     },
     "metadata": {},
     "execution_count": 105
    }
   ],
   "source": [
    "# I make a request of the first repo with the endpoint to check the info I would get\n",
    "repo5 = requests.get(repo[0]['url'] + endpoint).json()\n",
    "repo5"
   ]
  },
  {
   "cell_type": "code",
   "execution_count": 106,
   "metadata": {},
   "outputs": [
    {
     "output_type": "execute_result",
     "data": {
      "text/plain": [
       "3"
      ]
     },
     "metadata": {},
     "execution_count": 106
    }
   ],
   "source": [
    "# I get the number of commits made for this repo\n",
    "len(repo5)"
   ]
  },
  {
   "cell_type": "code",
   "execution_count": 107,
   "metadata": {},
   "outputs": [
    {
     "output_type": "error",
     "ename": "KeyError",
     "evalue": "0",
     "traceback": [
      "\u001b[1;31m---------------------------------------------------------------------------\u001b[0m",
      "\u001b[1;31mKeyError\u001b[0m                                  Traceback (most recent call last)",
      "\u001b[1;32m<ipython-input-107-be1a9afd0eaa>\u001b[0m in \u001b[0;36m<module>\u001b[1;34m\u001b[0m\n\u001b[0;32m      7\u001b[0m     \u001b[0mnum_commits\u001b[0m \u001b[1;33m+=\u001b[0m \u001b[0mlen\u001b[0m\u001b[1;33m(\u001b[0m\u001b[0mrepo6\u001b[0m\u001b[1;33m)\u001b[0m\u001b[1;33m\u001b[0m\u001b[1;33m\u001b[0m\u001b[0m\n\u001b[0;32m      8\u001b[0m     \u001b[1;32mfor\u001b[0m \u001b[0mj\u001b[0m \u001b[1;32min\u001b[0m \u001b[0mrange\u001b[0m\u001b[1;33m(\u001b[0m\u001b[0mlen\u001b[0m\u001b[1;33m(\u001b[0m\u001b[0mrepo6\u001b[0m\u001b[1;33m)\u001b[0m\u001b[1;33m)\u001b[0m\u001b[1;33m:\u001b[0m\u001b[1;33m\u001b[0m\u001b[1;33m\u001b[0m\u001b[0m\n\u001b[1;32m----> 9\u001b[1;33m         \u001b[0mrepo7\u001b[0m \u001b[1;33m=\u001b[0m \u001b[0mrepo6\u001b[0m\u001b[1;33m[\u001b[0m\u001b[0mj\u001b[0m\u001b[1;33m]\u001b[0m\u001b[1;33m[\u001b[0m\u001b[1;34m'commit'\u001b[0m\u001b[1;33m]\u001b[0m\u001b[1;33m[\u001b[0m\u001b[1;34m'author'\u001b[0m\u001b[1;33m]\u001b[0m\u001b[1;33m[\u001b[0m\u001b[1;34m'date'\u001b[0m\u001b[1;33m]\u001b[0m\u001b[1;33m\u001b[0m\u001b[1;33m\u001b[0m\u001b[0m\n\u001b[0m\u001b[0;32m     10\u001b[0m         \u001b[1;32mif\u001b[0m \u001b[1;33m(\u001b[0m\u001b[0mdt\u001b[0m\u001b[1;33m.\u001b[0m\u001b[0mdatetime\u001b[0m\u001b[1;33m.\u001b[0m\u001b[0mnow\u001b[0m\u001b[1;33m(\u001b[0m\u001b[1;33m)\u001b[0m \u001b[1;33m-\u001b[0m \u001b[0mdt\u001b[0m\u001b[1;33m.\u001b[0m\u001b[0mdatetime\u001b[0m\u001b[1;33m.\u001b[0m\u001b[0mstrptime\u001b[0m\u001b[1;33m(\u001b[0m\u001b[0mrepo7\u001b[0m\u001b[1;33m,\u001b[0m \u001b[1;34m\"%Y-%m-%dT%H:%M:%SZ\"\u001b[0m\u001b[1;33m)\u001b[0m\u001b[1;33m)\u001b[0m\u001b[1;33m.\u001b[0m\u001b[0mdays\u001b[0m \u001b[1;33m<\u001b[0m \u001b[1;36m7\u001b[0m\u001b[1;33m:\u001b[0m\u001b[1;33m\u001b[0m\u001b[1;33m\u001b[0m\u001b[0m\n\u001b[0;32m     11\u001b[0m            \u001b[0mnum_commits_lastweek\u001b[0m \u001b[1;33m+=\u001b[0m \u001b[1;36m1\u001b[0m\u001b[1;33m\u001b[0m\u001b[1;33m\u001b[0m\u001b[0m\n",
      "\u001b[1;31mKeyError\u001b[0m: 0"
     ]
    }
   ],
   "source": [
    "# Check total number of commits made by summing commits repo by repo\n",
    "# For each commit, check if it has been done in the last week\n",
    "num_commits = 0\n",
    "num_commits_lastweek = 0\n",
    "for i in range(len(repo)):\n",
    "    repo6 = requests.get(repo[i]['url'] + endpoint).json()\n",
    "    num_commits += len(repo6)\n",
    "    for j in range(len(repo6)):\n",
    "        repo7 = repo6[j]['commit']['author']['date']\n",
    "        if (dt.datetime.now() - dt.datetime.strptime(repo7, \"%Y-%m-%dT%H:%M:%SZ\")).days < 7:\n",
    "           num_commits_lastweek += 1"
   ]
  },
  {
   "cell_type": "code",
   "execution_count": 30,
   "metadata": {},
   "outputs": [
    {
     "output_type": "execute_result",
     "data": {
      "text/plain": [
       "113"
      ]
     },
     "metadata": {},
     "execution_count": 30
    }
   ],
   "source": [
    "# Total number of commits\n",
    "num_commits"
   ]
  },
  {
   "cell_type": "code",
   "execution_count": 31,
   "metadata": {},
   "outputs": [
    {
     "output_type": "execute_result",
     "data": {
      "text/plain": [
       "2"
      ]
     },
     "metadata": {},
     "execution_count": 31
    }
   ],
   "source": [
    "# Number of commits during last week\n",
    "num_commits_lastweek"
   ]
  },
  {
   "source": [
    "# Challenge 3\n",
    "\n",
    "Using Python, call Github API to find out the cold joke contained in the 24 secret files in the following repo:\n",
    "\n",
    "https://github.com/ironhack-datalabs/scavenger\n",
    "\n",
    "The filenames of the secret files contain .scavengerhunt and they are scattered in different directories of this repo. The secret files are named from .0001.scavengerhunt to .0024.scavengerhunt. They are scattered randomly throughout this repo. You need to search for these files by calling the Github API, not searching the local files on your computer.\n",
    "\n",
    "**After you find out the secrete files:**\n",
    "\n",
    "- 1. Sort the filenames ascendingly.\n",
    "- 2. Read the content of each secret files into an array of strings.\n",
    "- 3. Concatenate the strings in the array separating each two with a whitespace.\n",
    "- 4. Print out the joke."
   ],
   "cell_type": "markdown",
   "metadata": {}
  },
  {
   "cell_type": "code",
   "execution_count": 7,
   "metadata": {},
   "outputs": [],
   "source": [
    "# Take the repo from repo list with name scavenger (previously forked)\n",
    "for i in range(len(repo)):\n",
    "    if repo[i]['name'] == 'scavenger':\n",
    "        repo8 = requests.get(repo[i]['url']).json()"
   ]
  },
  {
   "cell_type": "code",
   "execution_count": 8,
   "metadata": {},
   "outputs": [
    {
     "output_type": "execute_result",
     "data": {
      "text/plain": [
       "dict_keys(['id', 'node_id', 'name', 'full_name', 'private', 'owner', 'html_url', 'description', 'fork', 'url', 'forks_url', 'keys_url', 'collaborators_url', 'teams_url', 'hooks_url', 'issue_events_url', 'events_url', 'assignees_url', 'branches_url', 'tags_url', 'blobs_url', 'git_tags_url', 'git_refs_url', 'trees_url', 'statuses_url', 'languages_url', 'stargazers_url', 'contributors_url', 'subscribers_url', 'subscription_url', 'commits_url', 'git_commits_url', 'comments_url', 'issue_comment_url', 'contents_url', 'compare_url', 'merges_url', 'archive_url', 'downloads_url', 'issues_url', 'pulls_url', 'milestones_url', 'notifications_url', 'labels_url', 'releases_url', 'deployments_url', 'created_at', 'updated_at', 'pushed_at', 'git_url', 'ssh_url', 'clone_url', 'svn_url', 'homepage', 'size', 'stargazers_count', 'watchers_count', 'language', 'has_issues', 'has_projects', 'has_downloads', 'has_wiki', 'has_pages', 'forks_count', 'mirror_url', 'archived', 'disabled', 'open_issues_count', 'license', 'forks', 'open_issues', 'watchers', 'default_branch', 'temp_clone_token', 'parent', 'source', 'network_count', 'subscribers_count'])"
      ]
     },
     "metadata": {},
     "execution_count": 8
    }
   ],
   "source": [
    "# Check information that de dictonary contains\n",
    "repo8.keys()"
   ]
  },
  {
   "cell_type": "code",
   "execution_count": 74,
   "metadata": {},
   "outputs": [
    {
     "output_type": "execute_result",
     "data": {
      "text/plain": [
       "'https://api.github.com/repos/carazaagu/scavenger/contents/{+path}'"
      ]
     },
     "metadata": {},
     "execution_count": 74
    }
   ],
   "source": [
    "# Check the contents url to get the endpoint\n",
    "repo8['contents_url']"
   ]
  },
  {
   "cell_type": "code",
   "execution_count": 9,
   "metadata": {},
   "outputs": [],
   "source": [
    "# Use the endpoint to make a get and obtein the content from scavengers\n",
    "repo9 = requests.get(repo8['url'] + '/contents').json()"
   ]
  },
  {
   "cell_type": "code",
   "execution_count": 85,
   "metadata": {},
   "outputs": [],
   "source": [
    "# Open all the files that are not a .gitignore file\n",
    "# Only consider files that ends with 'scavengerhunt'\n",
    "# From these files, obtain their names and the text they have, as a nested list\n",
    "scavenger_1 = []\n",
    "for i in range(len(repo9)):\n",
    "    if repo9[i]['name'] != '.gitignore':\n",
    "        repo10 = requests.get(repo9[i]['url']).json()\n",
    "        for j in range(len(repo10)):\n",
    "            if repo10[j]['name'].endswith('scavengerhunt'):\n",
    "                scavenger_1.append([repo10[j]['name'], requests.get(repo10[j]['download_url']).text])"
   ]
  },
  {
   "cell_type": "code",
   "execution_count": 86,
   "metadata": {},
   "outputs": [],
   "source": [
    "# Sort the nested list\n",
    "scavenger_1.sort()"
   ]
  },
  {
   "cell_type": "code",
   "execution_count": 87,
   "metadata": {},
   "outputs": [],
   "source": [
    "# List comprehension from the text elements and strip\n",
    "scavenger_2 = [i[1].strip() for i in scavenger_1]"
   ]
  },
  {
   "cell_type": "code",
   "execution_count": 88,
   "metadata": {},
   "outputs": [
    {
     "output_type": "execute_result",
     "data": {
      "text/plain": [
       "'In data science, 80 percent of time spent is preparing data, 20 percent of time is spent complaining about the need to prepare data.'"
      ]
     },
     "metadata": {},
     "execution_count": 88
    }
   ],
   "source": [
    "# Make a join of all items in the list to get the message\n",
    "' '.join(scavenger_2)"
   ]
  },
  {
   "cell_type": "code",
   "execution_count": null,
   "metadata": {},
   "outputs": [],
   "source": []
  }
 ]
}